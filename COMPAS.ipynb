{
  "nbformat": 4,
  "nbformat_minor": 0,
  "metadata": {
    "colab": {
      "provenance": []
    },
    "kernelspec": {
      "name": "python3",
      "display_name": "Python 3"
    },
    "language_info": {
      "name": "python"
    }
  },
  "cells": [
    {
      "cell_type": "markdown",
      "source": [
        "Data Exploration (Tom, Timo, Adrien)"
      ],
      "metadata": {
        "id": "5P2cyAj_upyO"
      }
    },
    {
      "cell_type": "code",
      "execution_count": null,
      "metadata": {
        "id": "r0fINgTDtxuL"
      },
      "outputs": [],
      "source": []
    },
    {
      "cell_type": "markdown",
      "source": [
        "Model Creation (Tanim)"
      ],
      "metadata": {
        "id": "DnpsNQq7uvPA"
      }
    },
    {
      "cell_type": "code",
      "source": [],
      "metadata": {
        "id": "mpP6L5kTuxzq"
      },
      "execution_count": null,
      "outputs": []
    },
    {
      "cell_type": "markdown",
      "source": [
        "XAI - SHAP (Daniel)"
      ],
      "metadata": {
        "id": "5BHzzlI3uyUG"
      }
    },
    {
      "cell_type": "code",
      "source": [],
      "metadata": {
        "id": "4g9D5Q9Fu1kL"
      },
      "execution_count": null,
      "outputs": []
    },
    {
      "cell_type": "markdown",
      "source": [
        "XAI - 2nd method"
      ],
      "metadata": {
        "id": "EGHF8oVAu15f"
      }
    },
    {
      "cell_type": "code",
      "source": [],
      "metadata": {
        "id": "NlD_g-WRu30v"
      },
      "execution_count": null,
      "outputs": []
    },
    {
      "cell_type": "markdown",
      "source": [],
      "metadata": {
        "id": "PnOgmz_6u4hu"
      }
    }
  ]
}